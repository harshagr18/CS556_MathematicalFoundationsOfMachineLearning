{
 "cells": [
  {
   "cell_type": "markdown",
   "metadata": {},
   "source": [
    "1. Upload the data of file Body_Temperature.csv recording the body temparature of 1000 persons into a pandas dataframe. "
   ]
  },
  {
   "cell_type": "code",
   "execution_count": 1,
   "metadata": {},
   "outputs": [],
   "source": [
    "import scipy.stats as ss\n",
    "import numpy as np\n",
    "import pandas as pd\n",
    "import matplotlib.pyplot as plt\n",
    "\n",
    "#[1 point]\n",
    "temp_df = pd.read_csv(\"Body_Temperature.csv\") #TODO  "
   ]
  },
  {
   "cell_type": "code",
   "execution_count": 2,
   "metadata": {},
   "outputs": [],
   "source": [
    "#[2 points]\n",
    "#Compute mean and standard deviation of the body temperature\n",
    "mean = temp_df[\"Body_Temperature\"].mean() #TODO\n",
    "std = temp_df[\"Body_Temperature\"].std() #TODO"
   ]
  },
  {
   "cell_type": "code",
   "execution_count": 3,
   "metadata": {},
   "outputs": [
    {
     "name": "stdout",
     "output_type": "stream",
     "text": [
      "Normally distributed\n"
     ]
    }
   ],
   "source": [
    "# [2 points]\n",
    "#Check whether the data representing body temperature is normally distribute or not\n",
    "#TODO\n",
    "\n",
    "k2, p = ss.normaltest(temp_df[\"Body_Temperature\"])\n",
    "if p > 0.05:\n",
    "    print(\"Normally distributed\")\n",
    "else:\n",
    "    print(\"Not normally distributed\")"
   ]
  },
  {
   "cell_type": "code",
   "execution_count": 4,
   "metadata": {},
   "outputs": [],
   "source": [
    "# [3 points]\n",
    "#Declare a Gaussian Distribution named body_gaussian with the above mean and std. \n",
    "#TODO\n",
    "\n",
    "body_gaussian = ss.norm(mean, std)"
   ]
  },
  {
   "cell_type": "code",
   "execution_count": 5,
   "metadata": {},
   "outputs": [
    {
     "data": {
      "image/png": "[encoded data removed]",
      "text/plain": [
       "<Figure size 432x288 with 1 Axes>"
      ]
     },
     "metadata": {
      "needs_background": "light"
     },
     "output_type": "display_data"
    }
   ],
   "source": [
    "# [3 points]\n",
    "# Plot the distribution curve of body_gaussian\n",
    "#TODO\n",
    "count, bins, ignored = plt.hist(temp_df[\"Body_Temperature\"], bins = 20, density=True, stacked=True, color = 'b')\n",
    "plt.plot(bins, 1/(std * np.sqrt(2 * np.pi)) * np.exp( - (bins - mean)**2 / (2 * std**2)),linewidth=3, color='y')\n",
    "plt.show()"
   ]
  },
  {
   "cell_type": "markdown",
   "metadata": {},
   "source": [
    "Answer the following questions considering the body_gaussian model. \n",
    "\n",
    "1. In what interval does the \"middle 90%\" of body temperatures fall? [3 points]\n",
    "\n",
    "2. What fraction of people would be expected to have a body temperature above 37.0? [3 points]\n",
    "\n",
    "3. Below what body temperature are the coolest 20% of all people? [3 points]"
   ]
  },
  {
   "cell_type": "code",
   "execution_count": 6,
   "metadata": {},
   "outputs": [
    {
     "name": "stdout",
     "output_type": "stream",
     "text": [
      "(36.373490166055255, 37.03552983394473)  is the intervel of middle 90% of the body temperatures\n"
     ]
    }
   ],
   "source": [
    "#TODO Question 1\n",
    "# Middle 90% constitutes 5% to 95% of the total\n",
    "\n",
    "ans1 = body_gaussian.ppf(0.05), body_gaussian.ppf(0.95)\n",
    "print( ans1 , \" is the intervel of middle 90% of the body temperatures\")"
   ]
  },
  {
   "cell_type": "code",
   "execution_count": 7,
   "metadata": {},
   "outputs": [
    {
     "name": "stdout",
     "output_type": "stream",
     "text": [
      "Fraction of people expected to have a body temperature above 37.0 is  0.0710108111354989\n"
     ]
    }
   ],
   "source": [
    "#TODO Question 2\n",
    "# Finding people above 37.0 is 1 - P(temp <= 37)\n",
    "\n",
    "ans2 = 1 - body_gaussian.cdf(37.0)\n",
    "print(\"Fraction of people expected to have a body temperature above 37.0 is \", ans2)"
   ]
  },
  {
   "cell_type": "code",
   "execution_count": 8,
   "metadata": {},
   "outputs": [
    {
     "name": "stdout",
     "output_type": "stream",
     "text": [
      "The coolest 20% of the the body temperatures are below  36.5351372871842\n"
     ]
    }
   ],
   "source": [
    "#TODO Question 3\n",
    "# Coolest 20% of the people are \n",
    "\n",
    "ans3 = body_gaussian.ppf(0.2)\n",
    "print(\"The coolest 20% of the the body temperatures are below \", ans3)"
   ]
  }
 ],
 "metadata": {
  "kernelspec": {
   "display_name": "Python 3",
   "language": "python",
   "name": "python3"
  },
  "language_info": {
   "codemirror_mode": {
    "name": "ipython",
    "version": 3
   },
   "file_extension": ".py",
   "mimetype": "text/x-python",
   "name": "python",
   "nbconvert_exporter": "python",
   "pygments_lexer": "ipython3",
   "version": "3.9.2"
  }
 },
 "nbformat": 4,
 "nbformat_minor": 4
}
