{
 "cells": [
  {
   "cell_type": "code",
   "execution_count": 1,
   "id": "durable-input",
   "metadata": {},
   "outputs": [
    {
     "name": "stdout",
     "output_type": "stream",
     "text": [
      "Addition is not possible\n",
      "[[20, 22, 24], [34, 36, 36]]\n"
     ]
    }
   ],
   "source": [
    "def MatrixAddition(A,B):\n",
    "\n",
    "    C=[]\n",
    "\n",
    "    if len(A[0])!=len(B[0]) or len(A)!=len(B):\n",
    "        print(\"Addition is not possible\")\n",
    "        return\n",
    "    else:\n",
    "        for i in range(len(A)):\n",
    "            temp = []\n",
    "            for j in range(len(A[0])):\n",
    "                temp.append(A[i][j]+B[i][j])\n",
    "            C.append(temp)\n",
    "    print(C)\n",
    "    return        \n",
    "\n",
    "\n",
    "## Test cases for addition\n",
    "A=[[ 1,2], [3,4]] \n",
    "B=[[5,6,7], [7,8,8]]\n",
    "\n",
    "B=[[5,6,7], [7,8,8]]\n",
    "C=[[15,16,17], [27,28,28]]\n",
    "\n",
    "MatrixAddition(A,B)\n",
    "\n",
    "MatrixAddition(C,B)"
   ]
  },
  {
   "cell_type": "code",
   "execution_count": 2,
   "id": "aquatic-hotel",
   "metadata": {},
   "outputs": [
    {
     "name": "stdout",
     "output_type": "stream",
     "text": [
      "[[43, 49, 44], [83, 95, 88], [163, 187, 176]]\n",
      "Multiplication is not possible\n"
     ]
    }
   ],
   "source": [
    "def MatrixMultiplication(A,B):\n",
    "    \n",
    "    if len(A[0]) != len(B):\n",
    "        print(\"Multiplication is not possible\")\n",
    "        return\n",
    "    else:\n",
    "        rows = len(A)\n",
    "        cols = len(B[0])\n",
    "        C = [([0]*cols) for i in range(rows)]\n",
    "        \n",
    "        for i in range(len(A)):\n",
    "            for j in range(len(B[0])):\n",
    "                for k in range(len(B)):\n",
    "                    C[i][j] += A[i][k] * B[k][j]\n",
    "        print(C)\n",
    "        return\n",
    "\n",
    "\n",
    "A=[[ 1,2,3], [3,4,5],[7,8,9]] # 3x3\n",
    "B=[[5,6,7], [7,8,8],[8,9,7]] # 3x3\n",
    "MatrixMultiplication(A,B)\n",
    "\n",
    "A= [[5,6,7],[7,8,8],[8,9,7]] # 3x3\n",
    "B =[[1,2,3],[3,4,5]] # 2x3\n",
    "MatrixMultiplication(A,B)"
   ]
  },
  {
   "cell_type": "code",
   "execution_count": 3,
   "id": "honest-viewer",
   "metadata": {},
   "outputs": [
    {
     "name": "stdout",
     "output_type": "stream",
     "text": [
      "[[1, 3], [2, 4], [3, 5]]\n",
      "[[5, 7, 8], [6, 8, 9]]\n"
     ]
    }
   ],
   "source": [
    "def MatrixTranspose(A):\n",
    "    B = []\n",
    "    \n",
    "    for i in range(len(A[0])):\n",
    "        temp = []\n",
    "        for j in range(len(A)):\n",
    "            temp.append(A[j][i])\n",
    "        B.append(temp)\n",
    "    print(B)\n",
    "    return \n",
    "    \n",
    "\n",
    "A=[[ 1,2,3], [3,4,5]] \n",
    "MatrixTranspose(A)\n",
    "\n",
    "\n",
    "B=[[5,6], [7,8],[8,9]]\n",
    "MatrixTranspose(B)"
   ]
  },
  {
   "cell_type": "markdown",
   "id": "false-worker",
   "metadata": {},
   "source": [
    "# “I pledge my honor that I have abided by the Stevens Honor System.” "
   ]
  }
 ],
 "metadata": {
  "kernelspec": {
   "display_name": "Python 3",
   "language": "python",
   "name": "python3"
  },
  "language_info": {
   "codemirror_mode": {
    "name": "ipython",
    "version": 3
   },
   "file_extension": ".py",
   "mimetype": "text/x-python",
   "name": "python",
   "nbconvert_exporter": "python",
   "pygments_lexer": "ipython3",
   "version": "3.9.2"
  }
 },
 "nbformat": 4,
 "nbformat_minor": 5
}
