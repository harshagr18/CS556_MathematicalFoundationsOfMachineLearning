{
 "cells": [
  {
   "cell_type": "markdown",
   "metadata": {
    "id": "plMXoL6Y64Zp"
   },
   "source": [
    "### Name : Harsh Sanjay Agrawal\n",
    "### CWID : 10475285\n",
    "### email: hagrawa1@stevens.edu\n",
    " (Fill in for 5pts)"
   ]
  },
  {
   "cell_type": "markdown",
   "metadata": {
    "id": "YwcuuF_Z8N4_"
   },
   "source": [
    "##### **Collaboration Policy.** Homeworks will be done individually: each student must hand in their own answers. Use of partial or entire solutions obtained from others or online is strictly prohibited."
   ]
  },
  {
   "cell_type": "markdown",
   "metadata": {
    "id": "JfRCbz0F8Tnm"
   },
   "source": [
    "##### **Late Policy.** No late submissions will be allowed without consent from the instructor. If urgent or unusual circumstances prohibit you from submitting a homework assignment in time, please e-mail Professor or TAs explaining the situation."
   ]
  },
  {
   "cell_type": "markdown",
   "metadata": {
    "id": "j2FbKXrP2hVg"
   },
   "source": [
    "##### **Submission format** : Complete this jupyter notebook to successfully implement recommender systems on the Movie Lens Dataset. Follow this link https://stackoverflow.com/questions/53460051/convert-ipynb-notebook-to-html-in-google-colab to convert your **executed** notebook and submit in the form of  html file. (We will need you to fill in all the required cells, run the cell to get the required output, and then convert the notebook to a HTML file)"
   ]
  },
  {
   "cell_type": "markdown",
   "metadata": {
    "id": "SyXcDsQbVExv"
   },
   "source": [
    "#### Objective of the assignment : **Build a recommender system using the MovieLens Dataset** \n",
    "We have outlined the major steps involved to help you achieve the goal of building your own recommender system. Given a name of the movie, your model should output the top 5 movies similar to that particular movie.\n",
    "\n",
    "1.   Import all the required libraries \n",
    "2.   Read the dataset\n",
    "3.   Create a rating  matrix\n",
    "4.   Normalise this rating matrix \n",
    "5.   Compute SVD of this normalised rating matrix\n",
    "6.   Define a function that computes the cosine similarity between two movies\n",
    "7.   Based on cosine similarity, sort the movies which are most similar and return the top 5 movies that match a given a movie title\n",
    "\n"
   ]
  },
  {
   "cell_type": "code",
   "execution_count": 1,
   "metadata": {
    "id": "35l73b6_9CnS"
   },
   "outputs": [],
   "source": [
    "# Import all the required libraries\n",
    "import numpy as np\n",
    "import pandas as pd"
   ]
  },
  {
   "cell_type": "markdown",
   "metadata": {
    "id": "HZnPUHzoPAMU"
   },
   "source": [
    "#### Read the Dataset using read_csv function from Pandas"
   ]
  },
  {
   "cell_type": "code",
   "execution_count": 2,
   "metadata": {
    "id": "TyjYlEGe9Fl9"
   },
   "outputs": [
    {
     "name": "stderr",
     "output_type": "stream",
     "text": [
      "<ipython-input-2-89dd6de3ca48>:2: ParserWarning: Falling back to the 'python' engine because the 'c' engine does not support regex separators (separators > 1 char and different from '\\s+' are interpreted as regex); you can avoid this warning by specifying engine='python'.\n",
      "  ratings_data  = pd.read_table(\"Data/ratings.dat\" , header = None, sep = \"::\")\n",
      "<ipython-input-2-89dd6de3ca48>:3: ParserWarning: Falling back to the 'python' engine because the 'c' engine does not support regex separators (separators > 1 char and different from '\\s+' are interpreted as regex); you can avoid this warning by specifying engine='python'.\n",
      "  movies_data = pd.read_table(\"Data/movies.dat\" , header = None, sep = \"::\")\n",
      "<ipython-input-2-89dd6de3ca48>:4: ParserWarning: Falling back to the 'python' engine because the 'c' engine does not support regex separators (separators > 1 char and different from '\\s+' are interpreted as regex); you can avoid this warning by specifying engine='python'.\n",
      "  user_data = pd.read_table(\"Data/users.dat\" , header = None, sep = \"::\")\n"
     ]
    }
   ],
   "source": [
    "## Read the dataset from the two files into ratings_data and movies_data\n",
    "ratings_data  = pd.read_table(\"Data/ratings.dat\" , header = None, sep = \"::\")\n",
    "movies_data = pd.read_table(\"Data/movies.dat\" , header = None, sep = \"::\")\n",
    "user_data = pd.read_table(\"Data/users.dat\" , header = None, sep = \"::\")"
   ]
  },
  {
   "cell_type": "code",
   "execution_count": 3,
   "metadata": {
    "id": "NwfX3JoTPr_1",
    "scrolled": true
   },
   "outputs": [
    {
     "data": {
      "text/html": [
       "<div>\n",
       "<style scoped>\n",
       "    .dataframe tbody tr th:only-of-type {\n",
       "        vertical-align: middle;\n",
       "    }\n",
       "\n",
       "    .dataframe tbody tr th {\n",
       "        vertical-align: top;\n",
       "    }\n",
       "\n",
       "    .dataframe thead th {\n",
       "        text-align: right;\n",
       "    }\n",
       "</style>\n",
       "<table border=\"1\" class=\"dataframe\">\n",
       "  <thead>\n",
       "    <tr style=\"text-align: right;\">\n",
       "      <th></th>\n",
       "      <th>user_id</th>\n",
       "      <th>movie_id</th>\n",
       "      <th>rating</th>\n",
       "      <th>time</th>\n",
       "    </tr>\n",
       "  </thead>\n",
       "  <tbody>\n",
       "    <tr>\n",
       "      <th>0</th>\n",
       "      <td>1</td>\n",
       "      <td>1193</td>\n",
       "      <td>5</td>\n",
       "      <td>978300760</td>\n",
       "    </tr>\n",
       "    <tr>\n",
       "      <th>1</th>\n",
       "      <td>1</td>\n",
       "      <td>661</td>\n",
       "      <td>3</td>\n",
       "      <td>978302109</td>\n",
       "    </tr>\n",
       "    <tr>\n",
       "      <th>2</th>\n",
       "      <td>1</td>\n",
       "      <td>914</td>\n",
       "      <td>3</td>\n",
       "      <td>978301968</td>\n",
       "    </tr>\n",
       "    <tr>\n",
       "      <th>3</th>\n",
       "      <td>1</td>\n",
       "      <td>3408</td>\n",
       "      <td>4</td>\n",
       "      <td>978300275</td>\n",
       "    </tr>\n",
       "    <tr>\n",
       "      <th>4</th>\n",
       "      <td>1</td>\n",
       "      <td>2355</td>\n",
       "      <td>5</td>\n",
       "      <td>978824291</td>\n",
       "    </tr>\n",
       "  </tbody>\n",
       "</table>\n",
       "</div>"
      ],
      "text/plain": [
       "   user_id  movie_id  rating       time\n",
       "0        1      1193       5  978300760\n",
       "1        1       661       3  978302109\n",
       "2        1       914       3  978301968\n",
       "3        1      3408       4  978300275\n",
       "4        1      2355       5  978824291"
      ]
     },
     "execution_count": 3,
     "metadata": {},
     "output_type": "execute_result"
    }
   ],
   "source": [
    "ratings_data = ratings_data.rename(columns={0:\"user_id\" , 1 : \"movie_id\", 2:\"rating\", 3:\"time\"})\n",
    "ratings_data.head()"
   ]
  },
  {
   "cell_type": "code",
   "execution_count": 4,
   "metadata": {},
   "outputs": [
    {
     "data": {
      "text/html": [
       "<div>\n",
       "<style scoped>\n",
       "    .dataframe tbody tr th:only-of-type {\n",
       "        vertical-align: middle;\n",
       "    }\n",
       "\n",
       "    .dataframe tbody tr th {\n",
       "        vertical-align: top;\n",
       "    }\n",
       "\n",
       "    .dataframe thead th {\n",
       "        text-align: right;\n",
       "    }\n",
       "</style>\n",
       "<table border=\"1\" class=\"dataframe\">\n",
       "  <thead>\n",
       "    <tr style=\"text-align: right;\">\n",
       "      <th></th>\n",
       "      <th>user_id</th>\n",
       "      <th>gender</th>\n",
       "      <th>age</th>\n",
       "      <th>occupation</th>\n",
       "      <th>zip_code</th>\n",
       "    </tr>\n",
       "  </thead>\n",
       "  <tbody>\n",
       "    <tr>\n",
       "      <th>0</th>\n",
       "      <td>1</td>\n",
       "      <td>F</td>\n",
       "      <td>1</td>\n",
       "      <td>10</td>\n",
       "      <td>48067</td>\n",
       "    </tr>\n",
       "    <tr>\n",
       "      <th>1</th>\n",
       "      <td>2</td>\n",
       "      <td>M</td>\n",
       "      <td>56</td>\n",
       "      <td>16</td>\n",
       "      <td>70072</td>\n",
       "    </tr>\n",
       "    <tr>\n",
       "      <th>2</th>\n",
       "      <td>3</td>\n",
       "      <td>M</td>\n",
       "      <td>25</td>\n",
       "      <td>15</td>\n",
       "      <td>55117</td>\n",
       "    </tr>\n",
       "    <tr>\n",
       "      <th>3</th>\n",
       "      <td>4</td>\n",
       "      <td>M</td>\n",
       "      <td>45</td>\n",
       "      <td>7</td>\n",
       "      <td>02460</td>\n",
       "    </tr>\n",
       "    <tr>\n",
       "      <th>4</th>\n",
       "      <td>5</td>\n",
       "      <td>M</td>\n",
       "      <td>25</td>\n",
       "      <td>20</td>\n",
       "      <td>55455</td>\n",
       "    </tr>\n",
       "  </tbody>\n",
       "</table>\n",
       "</div>"
      ],
      "text/plain": [
       "   user_id gender  age  occupation zip_code\n",
       "0        1      F    1          10    48067\n",
       "1        2      M   56          16    70072\n",
       "2        3      M   25          15    55117\n",
       "3        4      M   45           7    02460\n",
       "4        5      M   25          20    55455"
      ]
     },
     "execution_count": 4,
     "metadata": {},
     "output_type": "execute_result"
    }
   ],
   "source": [
    "# UserID::Gender::Age::Occupation::Zip-code\n",
    "user_data = user_data.rename(columns={0:\"user_id\" , 1 : \"gender\", 2:\"age\", 3:\"occupation\", 4:\"zip_code\"})\n",
    "user_data.head()"
   ]
  },
  {
   "cell_type": "code",
   "execution_count": 5,
   "metadata": {},
   "outputs": [
    {
     "data": {
      "text/html": [
       "<div>\n",
       "<style scoped>\n",
       "    .dataframe tbody tr th:only-of-type {\n",
       "        vertical-align: middle;\n",
       "    }\n",
       "\n",
       "    .dataframe tbody tr th {\n",
       "        vertical-align: top;\n",
       "    }\n",
       "\n",
       "    .dataframe thead th {\n",
       "        text-align: right;\n",
       "    }\n",
       "</style>\n",
       "<table border=\"1\" class=\"dataframe\">\n",
       "  <thead>\n",
       "    <tr style=\"text-align: right;\">\n",
       "      <th></th>\n",
       "      <th>movie_id</th>\n",
       "      <th>title</th>\n",
       "      <th>genre</th>\n",
       "    </tr>\n",
       "  </thead>\n",
       "  <tbody>\n",
       "    <tr>\n",
       "      <th>3878</th>\n",
       "      <td>3948</td>\n",
       "      <td>Meet the Parents (2000)</td>\n",
       "      <td>Comedy</td>\n",
       "    </tr>\n",
       "    <tr>\n",
       "      <th>3879</th>\n",
       "      <td>3949</td>\n",
       "      <td>Requiem for a Dream (2000)</td>\n",
       "      <td>Drama</td>\n",
       "    </tr>\n",
       "    <tr>\n",
       "      <th>3880</th>\n",
       "      <td>3950</td>\n",
       "      <td>Tigerland (2000)</td>\n",
       "      <td>Drama</td>\n",
       "    </tr>\n",
       "    <tr>\n",
       "      <th>3881</th>\n",
       "      <td>3951</td>\n",
       "      <td>Two Family House (2000)</td>\n",
       "      <td>Drama</td>\n",
       "    </tr>\n",
       "    <tr>\n",
       "      <th>3882</th>\n",
       "      <td>3952</td>\n",
       "      <td>Contender, The (2000)</td>\n",
       "      <td>Drama|Thriller</td>\n",
       "    </tr>\n",
       "  </tbody>\n",
       "</table>\n",
       "</div>"
      ],
      "text/plain": [
       "      movie_id                       title           genre\n",
       "3878      3948     Meet the Parents (2000)          Comedy\n",
       "3879      3949  Requiem for a Dream (2000)           Drama\n",
       "3880      3950            Tigerland (2000)           Drama\n",
       "3881      3951     Two Family House (2000)           Drama\n",
       "3882      3952       Contender, The (2000)  Drama|Thriller"
      ]
     },
     "execution_count": 5,
     "metadata": {},
     "output_type": "execute_result"
    }
   ],
   "source": [
    "# MovieID::Title::Genres\n",
    "movies_data = movies_data.rename(columns = {0:\"movie_id\",1:\"title\",2:\"genre\"})\n",
    "movies_data.tail()"
   ]
  },
  {
   "cell_type": "code",
   "execution_count": 6,
   "metadata": {},
   "outputs": [
    {
     "data": {
      "text/plain": [
       "array([[5, 0, 0, ..., 0, 0, 3],\n",
       "       [0, 0, 0, ..., 0, 0, 0],\n",
       "       [0, 0, 0, ..., 0, 0, 0],\n",
       "       ...,\n",
       "       [0, 0, 0, ..., 0, 0, 0],\n",
       "       [0, 0, 0, ..., 0, 0, 0],\n",
       "       [0, 0, 0, ..., 0, 0, 0]], dtype=uint8)"
      ]
     },
     "execution_count": 6,
     "metadata": {},
     "output_type": "execute_result"
    }
   ],
   "source": [
    "# Create an appropriate rating matrix where the rows of the matrix are movies and columns as users\n",
    "\n",
    "ratings_mat = np.ndarray(shape=(np.max(ratings_data.movie_id.values), np.max(ratings_data.user_id.values)),dtype=np.uint8)\n",
    "ratings_mat[ratings_data.movie_id.values-1, ratings_data.user_id.values-1] = ratings_data.rating.values\n",
    "ratings_mat"
   ]
  },
  {
   "cell_type": "code",
   "execution_count": 7,
   "metadata": {
    "id": "W7IpKIkRP507"
   },
   "outputs": [
    {
     "data": {
      "text/plain": [
       "array([[ 3.57400662, -1.42599338, -1.42599338, ..., -1.42599338,\n",
       "        -1.42599338,  1.57400662],\n",
       "       [-0.37152318, -0.37152318, -0.37152318, ..., -0.37152318,\n",
       "        -0.37152318, -0.37152318],\n",
       "       [-0.23874172, -0.23874172, -0.23874172, ..., -0.23874172,\n",
       "        -0.23874172, -0.23874172],\n",
       "       ...,\n",
       "       [-0.03278146, -0.03278146, -0.03278146, ..., -0.03278146,\n",
       "        -0.03278146, -0.03278146],\n",
       "       [-0.02582781, -0.02582781, -0.02582781, ..., -0.02582781,\n",
       "        -0.02582781, -0.02582781],\n",
       "       [-0.24288079, -0.24288079, -0.24288079, ..., -0.24288079,\n",
       "        -0.24288079, -0.24288079]])"
      ]
     },
     "execution_count": 7,
     "metadata": {},
     "output_type": "execute_result"
    }
   ],
   "source": [
    "# Normalise the rating matrix and call it normalised_matrix\n",
    "normalised_matrix = ratings_mat - np.asarray([(np.mean(ratings_mat, 1))]).T\n",
    "normalised_matrix"
   ]
  },
  {
   "cell_type": "code",
   "execution_count": 8,
   "metadata": {
    "id": "UZ_jvrKKQDnq"
   },
   "outputs": [
    {
     "data": {
      "text/plain": [
       "array([[ 7.13393053e-03,  1.64099327e-03,  2.14622406e-03, ...,\n",
       "         4.52266370e-03,  6.00783778e-03,  8.85674875e-03],\n",
       "       [ 6.40383513e-04, -2.70126226e-03, -2.00478360e-04, ...,\n",
       "         2.54577717e-03,  5.40385541e-04, -1.55791869e-02],\n",
       "       [ 6.72473390e-03, -3.34737240e-03, -3.95617989e-03, ...,\n",
       "         1.71114905e-03,  5.91124462e-03,  8.44640940e-03],\n",
       "       ...,\n",
       "       [ 1.13666709e-02,  1.80896437e-03, -5.62198713e-04, ...,\n",
       "         7.73909103e-01, -1.48780057e-02, -2.19959777e-03],\n",
       "       [ 3.49381899e-03,  1.87620989e-02, -1.08962191e-02, ...,\n",
       "        -9.78238175e-03,  3.32703088e-01, -3.14995403e-03],\n",
       "       [-1.32856412e-02,  4.08015550e-02, -3.63311909e-03, ...,\n",
       "        -1.09584563e-03,  5.44124149e-03,  8.83627250e-02]])"
      ]
     },
     "execution_count": 8,
     "metadata": {},
     "output_type": "execute_result"
    }
   ],
   "source": [
    "# Compute the SVD of the normalised matrix. Use the svd function from np.linalg\n",
    "\n",
    "U,S,V = np.linalg.svd(normalised_matrix.T / np.sqrt(ratings_mat.shape[0] - 1))\n",
    "U"
   ]
  },
  {
   "cell_type": "markdown",
   "metadata": {
    "id": "Ezwmvv1VQhTK"
   },
   "source": [
    "#### Cosine Similarity : Compute the cosine similarity to find the similarity between any two movies. Mathematically the cosine similarity is given as follows: \n",
    "$$ cosine(x,y) = \\frac{x\\cdot y^T}{||x||\\cdot ||y||}  $$"
   ]
  },
  {
   "cell_type": "code",
   "execution_count": 9,
   "metadata": {
    "id": "7AO4LU4NQQ_S"
   },
   "outputs": [],
   "source": [
    "# A function to calculate the cosine similarity sorted by most similar and return the top N results.\n",
    "\n",
    "def cosine_similarity(ratings_data, movie_id, top=10):\n",
    "    index = movie_id - 1 # Movie id starts from 1 in the dataset\n",
    "    movie_row = ratings_data[index, :]\n",
    "    mag = np.sqrt(np.einsum('ij, ij -> i', ratings_data, ratings_data)) # Finding magnitute for denominator\n",
    "    similar = np.dot(movie_row, ratings_data.T) / (mag[index] * mag) # Using the cosine formuka\n",
    "    sort_indexes = np.argsort(-similar) # Sorting the array in order of similarity\n",
    "    return sort_indexes[:top]\n",
    "\n",
    "# A function to print top N similar movies\n",
    "\n",
    "def print_top5_recommendations(movie_data, movie_id, top_indexes):\n",
    "    print('Recommendations for the entered movie are:')\n",
    "    for id in top_indexes + 1:\n",
    "        print(movie_data[movie_data.movie_id == id].title.values[0])\n",
    "        \n",
    "# Initialise the value of id of the movie as given in the dataset, and number of top elements to be printed\n",
    "sliced = V[:,:] # representative data"
   ]
  },
  {
   "cell_type": "markdown",
   "metadata": {
    "id": "ehGjsCqcYXo_"
   },
   "source": [
    "##### Get the top 5 recommendations given a title"
   ]
  },
  {
   "cell_type": "code",
   "execution_count": 10,
   "metadata": {
    "id": "Ce9Np8IfruW9"
   },
   "outputs": [
    {
     "name": "stdout",
     "output_type": "stream",
     "text": [
      "\n",
      "Recommendations for the entered movie are:\n",
      "Universal Soldier (1992)\n",
      "Christmas Story, A (1983)\n",
      "Universal Soldier: The Return (1999)\n",
      "Problem Child 2 (1991)\n",
      "Cat's Eye (1985)\n",
      "Mickey Blue Eyes (1999)\n"
     ]
    }
   ],
   "source": [
    "# Enter 2808 for Universal Soldier\n",
    "\n",
    "# movie_id = int(input(\"Enter a movie ID \"))\n",
    "movie_id = 2808\n",
    "print()\n",
    "indexes = cosine_similarity(sliced, movie_id, 6)\n",
    "print_top5_recommendations(movies_data, movie_id, indexes)"
   ]
  },
  {
   "cell_type": "markdown",
   "metadata": {},
   "source": [
    "# “I pledge my honor that I have abided by the Stevens Honor System.” \n"
   ]
  }
 ],
 "metadata": {
  "colab": {
   "collapsed_sections": [],
   "name": "CS556HW2.ipynb",
   "provenance": []
  },
  "kernelspec": {
   "display_name": "Python 3",
   "language": "python",
   "name": "python3"
  },
  "language_info": {
   "codemirror_mode": {
    "name": "ipython",
    "version": 3
   },
   "file_extension": ".py",
   "mimetype": "text/x-python",
   "name": "python",
   "nbconvert_exporter": "python",
   "pygments_lexer": "ipython3",
   "version": "3.9.2"
  }
 },
 "nbformat": 4,
 "nbformat_minor": 1
}
