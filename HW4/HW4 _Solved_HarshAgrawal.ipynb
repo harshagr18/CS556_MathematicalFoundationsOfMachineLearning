{
 "cells": [
  {
   "cell_type": "markdown",
   "metadata": {},
   "source": [
    "### Name : Harsh Sanjay Agrawal\n",
    "### CWID : 10475285 \n",
    "### email: hagrawa1@stevens.edu "
   ]
  },
  {
   "cell_type": "code",
   "execution_count": 1,
   "metadata": {},
   "outputs": [],
   "source": [
    "import scipy.stats as ss\n",
    "import numpy as np\n",
    "import pandas as pd\n",
    "import matplotlib.pyplot as plt"
   ]
  },
  {
   "cell_type": "code",
   "execution_count": 2,
   "metadata": {},
   "outputs": [
    {
     "name": "stdout",
     "output_type": "stream",
     "text": [
      "   Student_Id  Grades\n",
      "0           0    74.0\n",
      "1           1    85.0\n",
      "2           2    70.0\n",
      "3           3    81.0\n",
      "4           4    83.0\n"
     ]
    }
   ],
   "source": [
    "#Read the data from homework_data.csv file and set the column Student_Id as the index of the dataframe. The data contains the student id and grade he/she took in CS 556.\n",
    "df = pd.read_csv(\"homework_data.csv\")\n",
    "print(df.head())"
   ]
  },
  {
   "cell_type": "code",
   "execution_count": 3,
   "metadata": {},
   "outputs": [
    {
     "name": "stdout",
     "output_type": "stream",
     "text": [
      "79617.0 79617\n"
     ]
    }
   ],
   "source": [
    "# Sum of integer and floating points are same, meaning there are no float values in the grade columns, all are whole numbers\n",
    "print(df[\"Grades\"].sum(),df[\"Grades\"].astype(int).sum())"
   ]
  },
  {
   "cell_type": "code",
   "execution_count": 4,
   "metadata": {},
   "outputs": [
    {
     "name": "stdout",
     "output_type": "stream",
     "text": [
      "Mean is:  79.617\n",
      "Std is:  12.252364320058044\n"
     ]
    }
   ],
   "source": [
    "#Computing the mean and standard deviation of the grades\n",
    "mean = df[\"Grades\"].mean()\n",
    "std = df[\"Grades\"].std()\n",
    "print(\"Mean is: \", mean)\n",
    "print(\"Std is: \", std)"
   ]
  },
  {
   "cell_type": "code",
   "execution_count": 5,
   "metadata": {},
   "outputs": [
    {
     "name": "stdout",
     "output_type": "stream",
     "text": [
      "Yes the data is normally distributed\n"
     ]
    }
   ],
   "source": [
    "#Perform the normal test to check whether the data is normally distributed\n",
    "k2, p = ss.normaltest(df[\"Grades\"])\n",
    "if p > 0.05:\n",
    "    print(\"Yes the data is normally distributed\")\n",
    "else:\n",
    "    print(\"No the data is not normally distributed\")"
   ]
  },
  {
   "cell_type": "code",
   "execution_count": 6,
   "metadata": {},
   "outputs": [
    {
     "data": {
      "image/png": "[encoded data removed]",
      "text/plain": [
       "<Figure size 432x288 with 1 Axes>"
      ]
     },
     "metadata": {
      "needs_background": "light"
     },
     "output_type": "display_data"
    }
   ],
   "source": [
    "#plot the histogram of grades containing 20 bins. The output should be like the plot shown below. \n",
    "count, bins, ignored = plt.hist(df[\"Grades\"], bins = 20, density=True, stacked=True, color = 'r')"
   ]
  },
  {
   "cell_type": "code",
   "execution_count": 7,
   "metadata": {},
   "outputs": [
    {
     "data": {
      "image/png": "[encoded data removed]",
      "text/plain": [
       "<Figure size 432x288 with 1 Axes>"
      ]
     },
     "metadata": {
      "needs_background": "light"
     },
     "output_type": "display_data"
    }
   ],
   "source": [
    "#plot the probability density as histogram in blue and the probabability density function as a curve in yellow as shown below.\n",
    "count, bins, ignored = plt.hist(df[\"Grades\"], bins = 20, density=True, stacked=True, color = 'b')\n",
    "\n",
    "plt.plot(bins, 1/(std * np.sqrt(2 * np.pi)) * np.exp( - (bins - mean)**2 / (2 * std**2)),linewidth=3, color='y')\n",
    "plt.show()"
   ]
  },
  {
   "cell_type": "code",
   "execution_count": 8,
   "metadata": {},
   "outputs": [],
   "source": [
    "#Create model that would generated grades of students assuming they are normally distributed with mean and std coming from the dataset we used above.\n",
    "rv = ss.norm(mean, std)"
   ]
  },
  {
   "cell_type": "markdown",
   "metadata": {},
   "source": [
    "### Answer the following questions using the above declared model named rv"
   ]
  },
  {
   "cell_type": "markdown",
   "metadata": {},
   "source": [
    "1. Find the probability that a randomly selected student from this class has a test score that is less than 92 <br>\n",
    "P(Grades <= 92)"
   ]
  },
  {
   "cell_type": "code",
   "execution_count": 9,
   "metadata": {},
   "outputs": [
    {
     "name": "stdout",
     "output_type": "stream",
     "text": [
      "Probability that a random student would take less than 92 is:  0.8439109037725568\n"
     ]
    }
   ],
   "source": [
    "prob = rv.cdf(92)\n",
    "print(\"Probability that a random student would take less than 92 is: \", prob)"
   ]
  },
  {
   "cell_type": "markdown",
   "metadata": {},
   "source": [
    "2. Find the probability that a randomly selected student from this class has a test score that between 80 and 90. <br>\n",
    "P(Grades between 80 and 90) = P(Grades <= 90) - P(Grades <= 80 )"
   ]
  },
  {
   "cell_type": "code",
   "execution_count": 10,
   "metadata": {},
   "outputs": [
    {
     "name": "stdout",
     "output_type": "stream",
     "text": [
      "Probability that a random student would take a grade between 80 and 90 is:  0.28915316095987564\n"
     ]
    }
   ],
   "source": [
    "prob = rv.cdf(90) - rv.cdf(80)\n",
    "print(\"Probability that a random student would take a grade between 80 and 90 is: \", prob)"
   ]
  },
  {
   "cell_type": "markdown",
   "metadata": {},
   "source": [
    "3. Find the probability that a randomly selected student from this class has a test score that greater than 70. <br>\n",
    "P(Grades higher than 70) = 1 - P(Grades <= 70)"
   ]
  },
  {
   "cell_type": "code",
   "execution_count": 11,
   "metadata": {},
   "outputs": [
    {
     "name": "stdout",
     "output_type": "stream",
     "text": [
      "Probability that a random student would take a grade greater than 70 is  0.783746752299991\n"
     ]
    }
   ],
   "source": [
    "prob = 1 - rv.cdf(70)\n",
    "print(\"Probability that a random student would take a grade greater than 70 is \", prob)"
   ]
  },
  {
   "cell_type": "markdown",
   "metadata": {},
   "source": [
    "4. Find the test score that separates the bottom 30% from the top 70% <br>\n",
    "Test score that seperates bottom 30% of the students from top 70% of the students lies at 30% probability."
   ]
  },
  {
   "cell_type": "code",
   "execution_count": 12,
   "metadata": {},
   "outputs": [
    {
     "name": "stdout",
     "output_type": "stream",
     "text": [
      "The test scores that separetes the bottom 30% from the top 70% is  73.19185386867586\n"
     ]
    }
   ],
   "source": [
    "grade = rv.ppf(0.3)\n",
    "print(\"The test scores that separetes the bottom 30% from the top 70% is \", grade)"
   ]
  },
  {
   "cell_type": "markdown",
   "metadata": {},
   "source": [
    "5. If a student scores in the top 10% of all test scores, her test score is at least what? <br>\n",
    "Test score appears in top 10% meaning bottom 90% probabilities are excluded"
   ]
  },
  {
   "cell_type": "code",
   "execution_count": 13,
   "metadata": {},
   "outputs": [
    {
     "name": "stdout",
     "output_type": "stream",
     "text": [
      "If a student scores in the top 10% of all test scores, her test score is at least  95.31903667599319\n"
     ]
    }
   ],
   "source": [
    "grade = rv.ppf(0.9)\n",
    "print(\"If a student scores in the top 10% of all test scores, her test score is at least \", grade)"
   ]
  },
  {
   "cell_type": "markdown",
   "metadata": {},
   "source": [
    "6. What range of test scores constitutes the middle 50%? <br>\n",
    "Marking the middle at mean, a range of 50% would go from 25% to 75% of the given data"
   ]
  },
  {
   "cell_type": "code",
   "execution_count": 14,
   "metadata": {},
   "outputs": [
    {
     "name": "stdout",
     "output_type": "stream",
     "text": [
      "(71.35290585045267, 87.88109414954734)  constitutes the middle 50% of the test scores\n"
     ]
    }
   ],
   "source": [
    "grade = rv.ppf(0.25), rv.ppf(0.75)\n",
    "print( grade , \" constitutes the middle 50% of the test scores\")"
   ]
  },
  {
   "cell_type": "markdown",
   "metadata": {},
   "source": [
    "# I pledge my honour that I have abided by the Steven's Code of Honour"
   ]
  }
 ],
 "metadata": {
  "kernelspec": {
   "display_name": "Python 3",
   "language": "python",
   "name": "python3"
  },
  "language_info": {
   "codemirror_mode": {
    "name": "ipython",
    "version": 3
   },
   "file_extension": ".py",
   "mimetype": "text/x-python",
   "name": "python",
   "nbconvert_exporter": "python",
   "pygments_lexer": "ipython3",
   "version": "3.9.2"
  }
 },
 "nbformat": 4,
 "nbformat_minor": 4
}
