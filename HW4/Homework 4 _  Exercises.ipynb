{
 "cells": [
  {
   "cell_type": "code",
   "execution_count": 1,
   "metadata": {},
   "outputs": [],
   "source": [
    "import scipy.stats as ss\n",
    "import numpy as np\n",
    "import pandas as pd\n",
    "import matplotlib.pyplot as plt"
   ]
  },
  {
   "cell_type": "code",
   "execution_count": 2,
   "metadata": {},
   "outputs": [
    {
     "name": "stdout",
     "output_type": "stream",
     "text": [
      "            Grades\n",
      "Student_Id        \n",
      "0             74.0\n",
      "1             85.0\n",
      "2             70.0\n",
      "3             81.0\n",
      "4             83.0\n"
     ]
    }
   ],
   "source": [
    "#Read the data from homework_data.csv file and set the column Student_Id as the index of the dataframe. The data contains the student id and grade he/she took in CS 556.\n",
    "df = ...\n",
    "print(df.head())"
   ]
  },
  {
   "cell_type": "code",
   "execution_count": 3,
   "metadata": {},
   "outputs": [
    {
     "name": "stdout",
     "output_type": "stream",
     "text": [
      "Mean is:  79.617\n",
      "Std is:  12.252364320058048\n"
     ]
    }
   ],
   "source": [
    "#Computing the mean and standard deviation of the grades\n",
    "mean = ...\n",
    "std = ...\n",
    "print(\"Mean is: \", mean)\n",
    "print(\"Std is: \", std)"
   ]
  },
  {
   "cell_type": "code",
   "execution_count": 4,
   "metadata": {},
   "outputs": [
    {
     "name": "stdout",
     "output_type": "stream",
     "text": [
      "Yes the data is normally distributed\n"
     ]
    }
   ],
   "source": [
    "#Perform the normal test to check whether the data is normally distributed\n",
    "k2, p = ...\n",
    "if p > 0.05:\n",
    "    print(\"Yes the data is normally distributed\")\n",
    "else:\n",
    "    print(\"No the data is not normally distributed\")"
   ]
  },
  {
   "cell_type": "code",
   "execution_count": 5,
   "metadata": {},
   "outputs": [
    {
     "data": {
      "image/png": "[encoded data removed]",
      "text/plain": [
       "<Figure size 432x288 with 1 Axes>"
      ]
     },
     "metadata": {
      "needs_background": "light"
     },
     "output_type": "display_data"
    }
   ],
   "source": [
    "#plot the histogram of grades containing 20 bins. The output should be like the plot shown below. \n",
    "..."
   ]
  },
  {
   "cell_type": "code",
   "execution_count": 6,
   "metadata": {},
   "outputs": [
    {
     "data": {
      "image/png": "[encoded data removed]",
      "text/plain": [
       "<Figure size 432x288 with 1 Axes>"
      ]
     },
     "metadata": {
      "needs_background": "light"
     },
     "output_type": "display_data"
    }
   ],
   "source": [
    "#plot the probability density as histogram in blue and the probabability density function as a curve in yellow as shown below.\n",
    "..."
   ]
  },
  {
   "cell_type": "code",
   "execution_count": 7,
   "metadata": {},
   "outputs": [],
   "source": [
    "#Create model that would generated grades of students assuming they are normally distributed with mean and std coming from the dataset we used above.\n",
    "rv = ..."
   ]
  },
  {
   "cell_type": "code",
   "execution_count": 8,
   "metadata": {},
   "outputs": [],
   "source": [
    "#Answer the following questions using the above declared model named rv"
   ]
  },
  {
   "cell_type": "markdown",
   "metadata": {},
   "source": [
    "1. Find the probability that a randomly selected student from this class has a test score that is less than 92"
   ]
  },
  {
   "cell_type": "code",
   "execution_count": 9,
   "metadata": {},
   "outputs": [
    {
     "name": "stdout",
     "output_type": "stream",
     "text": [
      "Probability that a random student would take less than 92 is: \n"
     ]
    }
   ],
   "source": [
    "prob = ...\n",
    "print(\"Probability that a random student would take less than 92 is: \", prob)"
   ]
  },
  {
   "cell_type": "markdown",
   "metadata": {},
   "source": [
    "2. Find the probability that a randomly selected student from this class has a test score that between 80 and 90."
   ]
  },
  {
   "cell_type": "code",
   "execution_count": 10,
   "metadata": {},
   "outputs": [
    {
     "name": "stdout",
     "output_type": "stream",
     "text": [
      "Probability that a random student would take a grade between 80 and 90 is: \n"
     ]
    }
   ],
   "source": [
    "prob = ...\n",
    "print(\"Probability that a random student would take a grade between 80 and 90 is: \", prob)"
   ]
  },
  {
   "cell_type": "markdown",
   "metadata": {},
   "source": [
    "3. Find the probability that a randomly selected student from this class has a test score that greater than 70."
   ]
  },
  {
   "cell_type": "code",
   "execution_count": 11,
   "metadata": {},
   "outputs": [
    {
     "name": "stdout",
     "output_type": "stream",
     "text": [
      "Probability that a random student would take a grade greater than 70 is  \n"
     ]
    }
   ],
   "source": [
    "prob = ...\n",
    "print(\"Probability that a random student would take a grade greater than 70 is  \", prob)"
   ]
  },
  {
   "cell_type": "markdown",
   "metadata": {},
   "source": [
    "4. Find the test score that separates the bottom 30% from the top 70%"
   ]
  },
  {
   "cell_type": "code",
   "execution_count": 12,
   "metadata": {},
   "outputs": [
    {
     "name": "stdout",
     "output_type": "stream",
     "text": [
      "The test scores that separetes the bottom 30% from the top 70% is \n"
     ]
    }
   ],
   "source": [
    "grade = ...\n",
    "print(\"The test scores that separetes the bottom 30% from the top 70% is \", grade)"
   ]
  },
  {
   "cell_type": "markdown",
   "metadata": {},
   "source": [
    "5. If a student scores in the top 10% of all test scores, her test score is at least what?"
   ]
  },
  {
   "cell_type": "code",
   "execution_count": 13,
   "metadata": {},
   "outputs": [
    {
     "name": "stdout",
     "output_type": "stream",
     "text": [
      "If a student scores in the top 10% of all test scores, her test score is at least  \n"
     ]
    }
   ],
   "source": [
    "grade = ...\n",
    "print(\"If a student scores in the top 10% of all test scores, her test score is at least  \", grade)"
   ]
  },
  {
   "cell_type": "markdown",
   "metadata": {},
   "source": [
    "6. What range of test scores constitutes the middle 50%?"
   ]
  },
  {
   "cell_type": "code",
   "execution_count": 14,
   "metadata": {},
   "outputs": [
    {
     "name": "stdout",
     "output_type": "stream",
     "text": [
      " constitutes the middle 50% of the test scores\n"
     ]
    }
   ],
   "source": [
    "grade = ...\n",
    "print( grade, \" constitutes the middle 50% of the test scores\")"
   ]
  }
 ],
 "metadata": {
  "kernelspec": {
   "display_name": "Python 3",
   "language": "python",
   "name": "python3"
  },
  "language_info": {
   "codemirror_mode": {
    "name": "ipython",
    "version": 3
   },
   "file_extension": ".py",
   "mimetype": "text/x-python",
   "name": "python",
   "nbconvert_exporter": "python",
   "pygments_lexer": "ipython3",
   "version": "3.9.2"
  }
 },
 "nbformat": 4,
 "nbformat_minor": 4
}
