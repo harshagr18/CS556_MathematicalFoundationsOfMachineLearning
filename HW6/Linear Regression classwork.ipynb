{
 "cells": [
  {
   "cell_type": "code",
   "execution_count": 1,
   "metadata": {},
   "outputs": [],
   "source": [
    "import numpy as np\n",
    "import matplotlib.pyplot as plt\n",
    "plt.style.use(['ggplot'])\n",
    "%matplotlib inline"
   ]
  },
  {
   "cell_type": "code",
   "execution_count": 2,
   "metadata": {},
   "outputs": [],
   "source": [
    "def extractfeatures(filename):\n",
    "    x=np.genfromtxt(filename,delimiter=',')\n",
    "    xfeatures=x[1:,1]\n",
    "    y=x[1:,2]\n",
    "    return xfeatures,y"
   ]
  },
  {
   "cell_type": "code",
   "execution_count": 3,
   "metadata": {},
   "outputs": [],
   "source": [
    "def normalizeFeatures(X):\n",
    "    mu=np.mean(X)\n",
    "    sigma=np.std(X)\n",
    "    X_norm=(X - mu)/sigma\n",
    "    return X_norm"
   ]
  },
  {
   "cell_type": "code",
   "execution_count": 4,
   "metadata": {},
   "outputs": [],
   "source": [
    "def computeCost(X,y,theta):\n",
    "    m=len(y)\n",
    "    J=0#iterative solution\n",
    "    s=0\n",
    "    for i in range(0,m):\n",
    "        s=s+((theta[0]+theta[1]*X[i,1])-y[i])**2\n",
    "    J=s/(2*m)\n",
    "\n",
    "    y=y.reshape(m,1)#vectorized solution\n",
    "    J1=(np.dot((np.dot(X,theta)-y).T,(np.dot(X,theta)-y)))/(2*m)\n",
    "\n",
    "    return J"
   ]
  },
  {
   "cell_type": "code",
   "execution_count": 5,
   "metadata": {},
   "outputs": [],
   "source": [
    "def gradientDescent(X,y,theta,alpha,iterations):\n",
    "    J_history=np.zeros((iterations,1))\n",
    "\n",
    "    m=len(y)# number of training examples\n",
    "    y=y.reshape(m,1)\n",
    "    for iter in range(0,iterations):\n",
    "        s1=0\n",
    "        s0=0\n",
    "        for i in range(0,m):\n",
    "            s1+=((theta[0]+theta[1]*X[i,1])-y[i])*X[i,1]\n",
    "            s0+=((theta[0]+theta[1]*X[i,1])-y[i])\n",
    "        theta[0]=theta[0]-alpha*s0/m\n",
    "        theta[1]=theta[1]-alpha*s1/m\n",
    "        J_history[iter]=computeCost(X,y,theta)\n",
    "    return theta,J_history"
   ]
  },
  {
   "cell_type": "code",
   "execution_count": 6,
   "metadata": {},
   "outputs": [],
   "source": [
    "def predict(theta,X):\n",
    "    return theta[0]+theta[1]*X"
   ]
  },
  {
   "cell_type": "code",
   "execution_count": 7,
   "metadata": {},
   "outputs": [],
   "source": [
    "def sumSquaresError(y, y_pred):\n",
    "    return round(((y - y_pred)**2).sum()/len(y),3)"
   ]
  },
  {
   "cell_type": "code",
   "execution_count": 8,
   "metadata": {},
   "outputs": [
    {
     "name": "stdout",
     "output_type": "stream",
     "text": [
      "Loaded 799 training examples\n"
     ]
    }
   ],
   "source": [
    "#Load the data\n",
    "X,y=extractfeatures('training.csv')#loading data from training dataset\n",
    "m=len(y) # number of training examples\n",
    "print(\"Loaded\",str(m), \"training examples\")"
   ]
  },
  {
   "cell_type": "code",
   "execution_count": 9,
   "metadata": {},
   "outputs": [
    {
     "name": "stdout",
     "output_type": "stream",
     "text": [
      "Data Normalization ended\n"
     ]
    }
   ],
   "source": [
    "#Normalize the data\n",
    "norm_X=normalizeFeatures(X)\n",
    "print(\"Data Normalization ended\")"
   ]
  },
  {
   "cell_type": "code",
   "execution_count": 10,
   "metadata": {},
   "outputs": [
    {
     "data": {
      "text/plain": [
       "Text(0, 0.5, '$y$')"
      ]
     },
     "execution_count": 10,
     "metadata": {},
     "output_type": "execute_result"
    },
    {
     "data": {
      "image/png": "[encoded data removed]",
      "text/plain": [
       "<Figure size 432x288 with 1 Axes>"
      ]
     },
     "metadata": {
      "needs_background": "light"
     },
     "output_type": "display_data"
    }
   ],
   "source": [
    "\"\"\"\n",
    "Let's plot our data to check the relation between X and Y\n",
    "\"\"\"\n",
    "plt.figure(1)\n",
    "plt.plot(X,y,'b.')\n",
    "plt.xlabel(\"$x$\", fontsize=18)\n",
    "plt.ylabel(\"$y$\", rotation=0, fontsize=18)"
   ]
  },
  {
   "cell_type": "code",
   "execution_count": 11,
   "metadata": {},
   "outputs": [
    {
     "name": "stdout",
     "output_type": "stream",
     "text": [
      "Theta (analytical): [ 3.214 , 0.223 ]^t\n"
     ]
    }
   ],
   "source": [
    "##Analytical Solution\n",
    "A = np.c_[np.ones((norm_X.size,1)),norm_X]\n",
    "theta = np.linalg.inv(A.T.dot(A)).dot(A.T).dot(y)\n",
    "print('Theta (analytical): [ {:0.3f} , {:0.3f} ]^t'.format(theta[0],theta[1]))"
   ]
  },
  {
   "cell_type": "code",
   "execution_count": 12,
   "metadata": {},
   "outputs": [
    {
     "data": {
      "text/plain": [
       "Text(0, 0.5, '$y$')"
      ]
     },
     "execution_count": 12,
     "metadata": {},
     "output_type": "execute_result"
    },
    {
     "data": {
      "image/png": "[encoded data removed]",
      "text/plain": [
       "<Figure size 432x288 with 1 Axes>"
      ]
     },
     "metadata": {
      "needs_background": "light"
     },
     "output_type": "display_data"
    }
   ],
   "source": [
    "\"\"\" Let's plot the prediction line with the calculated theta\"\"\"\n",
    "\n",
    "X_ln = np.array([min(norm_X),max(norm_X)]) #Plot a line between min x and max x\n",
    "A_ln = np.c_[np.ones((2,1)),X_ln]\n",
    "y_ln = A_ln.dot(theta)\n",
    "\n",
    "plt.figure(1)\n",
    "plt.plot(X_ln,y_ln,'r-')\n",
    "plt.plot(norm_X,y,'b.')\n",
    "plt.xlabel(\"$x$\", fontsize=18)\n",
    "plt.ylabel(\"$y$\", rotation=0, fontsize=18)\n",
    "# plt.axis([0,2,0,15])"
   ]
  },
  {
   "cell_type": "code",
   "execution_count": 13,
   "metadata": {},
   "outputs": [
    {
     "name": "stdout",
     "output_type": "stream",
     "text": [
      "The SSE in the training set for alpha =   0.05 is  0.245\n"
     ]
    }
   ],
   "source": [
    "##Train the linear model \n",
    "input_X=np.c_[np.ones((m,1)),norm_X]#Add a column of ones to X\n",
    "theta=np.ones((2,1))#initialize fitting parameters\n",
    "\n",
    "iterations=100\n",
    "alpha = 0.05\n",
    "\n",
    "theta1,J_history=gradientDescent(input_X,y,theta,alpha,iterations)#gets the final data and the values of cost function in each iteration\n",
    "\n",
    "#Training set error\n",
    "print(\"The SSE in the training set for alpha =  \",alpha, \"is \", sumSquaresError(y, predict(theta1, norm_X)))"
   ]
  },
  {
   "cell_type": "code",
   "execution_count": 23,
   "metadata": {},
   "outputs": [
    {
     "data": {
      "text/plain": [
       "array([ 1.69159202,  1.3383296 ,  0.91441469, -0.56928748,  0.27854233,\n",
       "        0.56115227,  1.3383296 ,  0.84376221,  2.89268425, -1.27581232,\n",
       "        1.7622445 , -0.07472009, -1.06385486,  0.34919482,  1.19702463,\n",
       "        0.63180476, -0.42798251,  1.26767711, -0.0040676 , -0.07472009,\n",
       "        2.61007431, -2.19429461,  0.98506718,  0.27854233, -1.20515983,\n",
       "       -0.78124493,  2.25681189, -0.85189741, -0.35733002, -1.62907474,\n",
       "        0.27854233,  2.04485444, -0.9225499 ,  1.19702463,  1.62093953,\n",
       "       -1.41711729,  2.11550692,  0.27854233, -1.55842225,  1.47963456,\n",
       "       -1.48776977,  0.77310972,  0.98506718, -1.13450735, -0.14537257,\n",
       "       -1.91168467, -1.55842225, -1.41711729,  1.47963456, -0.85189741,\n",
       "        1.40898208,  0.49049979, -0.42798251,  0.4198473 ,  1.90354947,\n",
       "        0.27854233,  0.06658488,  2.04485444,  1.40898208, -0.99320238,\n",
       "       -0.49863499, -0.78124493,  1.62093953,  0.20788985,  0.06658488,\n",
       "       -0.28667754,  0.06658488,  1.90354947, -0.56928748,  0.4198473 ,\n",
       "       -0.07472009,  1.69159202,  0.91441469,  0.13723737,  0.70245724,\n",
       "       -1.06385486, -1.98233716,  1.19702463, -0.14537257,  0.20788985,\n",
       "       -0.14537257,  0.34919482,  0.4198473 , -0.63993996,  0.98506718,\n",
       "       -0.78124493, -0.28667754,  0.49049979,  1.69159202, -0.71059244,\n",
       "       -1.69972722,  0.34919482, -2.05298964, -0.49863499,  0.98506718,\n",
       "        0.13723737,  1.55028705,  0.4198473 , -0.14537257,  1.19702463,\n",
       "        0.34919482,  1.19702463,  0.27854233, -0.42798251,  0.77310972,\n",
       "        2.32746437,  1.62093953,  0.98506718,  0.91441469,  1.97420195,\n",
       "        0.4198473 ,  0.06658488,  0.27854233, -0.99320238,  1.7622445 ,\n",
       "        1.69159202,  1.12637214,  0.27854233,  2.6807268 ,  1.55028705,\n",
       "        0.27854233, -0.85189741,  1.40898208,  1.83289699,  0.49049979,\n",
       "       -1.48776977, -0.28667754, -0.14537257,  1.26767711, -1.20515983,\n",
       "        1.26767711,  1.47963456, -0.42798251, -0.71059244,  1.55028705,\n",
       "        1.19702463,  0.56115227, -1.27581232,  0.70245724,  2.39811686,\n",
       "       -0.42798251, -0.35733002,  1.47963456,  0.06658488,  2.11550692,\n",
       "        1.3383296 ,  2.18615941,  0.91441469, -0.0040676 , -0.56928748,\n",
       "       -0.21602505, -0.07472009, -0.28667754,  0.77310972,  0.4198473 ,\n",
       "       -2.33559958,  1.40898208, -0.0040676 , -1.13450735,  0.70245724,\n",
       "        0.84376221, -0.71059244, -1.06385486,  0.13723737,  1.40898208,\n",
       "        2.39811686,  1.40898208, -0.9225499 ,  2.11550692,  0.63180476,\n",
       "       -2.2649471 , -0.78124493,  0.56115227,  0.49049979,  0.27854233,\n",
       "       -0.42798251, -0.07472009, -0.9225499 , -1.20515983, -0.0040676 ,\n",
       "       -0.07472009, -1.06385486,  1.3383296 , -1.06385486, -0.71059244,\n",
       "        0.06658488, -0.63993996,  0.63180476,  1.97420195,  1.7622445 ,\n",
       "       -0.9225499 ,  0.84376221,  1.12637214, -0.78124493,  0.4198473 ,\n",
       "        0.70245724,  0.34919482, -1.91168467, -2.54755703, -1.27581232,\n",
       "        0.13723737, -1.3464648 , -2.33559958,  1.83289699, -0.35733002,\n",
       "        0.84376221, -0.78124493, -1.48776977,  1.40898208, -0.0040676 ,\n",
       "        1.05571966,  0.27854233,  0.84376221,  1.19702463, -0.35733002,\n",
       "        1.12637214, -0.14537257,  0.84376221,  2.11550692, -1.06385486,\n",
       "        0.20788985, -0.21602505, -0.0040676 ,  1.12637214,  1.05571966,\n",
       "        0.49049979,  1.40898208,  0.63180476, -0.99320238, -0.07472009,\n",
       "        0.84376221, -0.21602505,  0.13723737, -0.78124493, -1.84103219,\n",
       "       -2.19429461,  0.77310972,  0.49049979, -0.78124493,  1.90354947,\n",
       "       -0.71059244, -0.28667754, -0.0040676 ,  1.90354947, -2.05298964,\n",
       "       -1.27581232, -0.35733002,  0.06658488,  0.34919482,  0.98506718,\n",
       "        2.11550692, -0.99320238,  0.06658488, -0.71059244,  0.56115227,\n",
       "       -2.688862  ,  1.26767711, -0.78124493, -0.56928748, -1.48776977,\n",
       "        0.34919482,  2.11550692, -0.42798251, -0.63993996, -1.69972722,\n",
       "        0.49049979,  0.84376221, -1.06385486, -1.06385486,  1.55028705,\n",
       "       -0.85189741,  1.19702463,  0.06658488,  0.98506718, -0.99320238,\n",
       "       -0.71059244, -1.13450735,  0.13723737,  1.05571966, -0.21602505,\n",
       "        0.34919482,  0.49049979, -0.63993996,  0.06658488,  0.34919482,\n",
       "        0.49049979,  0.84376221,  0.20788985, -0.0040676 , -0.56928748,\n",
       "       -0.49863499,  1.19702463,  0.4198473 ,  0.20788985, -1.55842225,\n",
       "        0.84376221, -0.0040676 ,  1.47963456,  0.34919482, -0.14537257,\n",
       "       -0.35733002,  0.13723737,  1.05571966, -0.35733002, -0.63993996,\n",
       "       -0.9225499 , -0.35733002,  1.69159202, -0.63993996,  1.05571966,\n",
       "       -0.14537257, -1.84103219, -1.3464648 , -0.85189741, -1.20515983,\n",
       "        0.4198473 ,  0.56115227,  0.63180476,  1.12637214, -0.07472009,\n",
       "        1.40898208, -0.78124493, -0.71059244, -1.13450735,  2.39811686,\n",
       "        0.34919482, -0.21602505,  0.27854233, -0.35733002, -1.55842225,\n",
       "       -0.71059244, -0.99320238,  0.49049979, -0.71059244, -1.55842225,\n",
       "       -0.07472009,  1.55028705,  0.84376221,  1.55028705, -1.13450735,\n",
       "        0.84376221,  0.63180476, -0.35733002, -0.42798251, -0.0040676 ,\n",
       "       -0.07472009,  0.34919482,  0.63180476, -0.35733002, -0.71059244,\n",
       "        0.63180476,  1.47963456,  0.34919482,  0.98506718, -2.05298964,\n",
       "       -1.55842225,  0.20788985, -0.28667754,  0.63180476, -1.84103219,\n",
       "       -0.99320238,  0.20788985,  0.49049979, -0.9225499 , -0.71059244,\n",
       "       -0.71059244,  0.34919482, -0.14537257,  1.7622445 ,  1.40898208,\n",
       "        0.06658488, -0.56928748, -0.21602505, -1.06385486,  0.20788985,\n",
       "        0.84376221, -1.13450735, -1.84103219, -0.0040676 , -0.07472009,\n",
       "       -0.85189741, -0.0040676 , -0.0040676 , -0.21602505,  1.3383296 ,\n",
       "        0.77310972, -0.07472009, -0.42798251,  0.4198473 , -0.07472009,\n",
       "        0.77310972, -0.0040676 , -0.35733002,  0.27854233, -0.63993996,\n",
       "        1.12637214,  1.05571966,  0.34919482, -1.20515983, -0.9225499 ,\n",
       "        1.05571966, -0.78124493, -0.07472009, -1.48776977, -1.41711729,\n",
       "       -0.07472009,  0.27854233, -0.9225499 , -0.07472009,  0.27854233,\n",
       "       -0.63993996,  0.70245724,  1.55028705,  0.4198473 , -0.28667754,\n",
       "       -0.0040676 , -1.06385486, -0.0040676 , -0.07472009, -1.62907474,\n",
       "        0.4198473 ,  1.62093953,  0.98506718,  0.13723737, -1.3464648 ,\n",
       "       -0.78124493,  0.63180476, -0.35733002,  0.84376221,  0.34919482,\n",
       "       -0.63993996,  0.49049979, -1.13450735,  0.84376221, -0.0040676 ,\n",
       "       -1.69972722,  0.63180476,  1.90354947,  0.63180476,  0.63180476,\n",
       "       -1.3464648 , -0.28667754, -1.06385486,  0.70245724,  0.06658488,\n",
       "       -0.49863499,  0.56115227, -0.07472009,  0.84376221, -1.48776977,\n",
       "       -0.0040676 , -0.63993996,  0.63180476, -1.13450735, -0.42798251,\n",
       "       -1.84103219, -1.20515983, -2.05298964,  0.20788985, -0.35733002,\n",
       "        0.27854233,  0.56115227,  0.06658488, -0.14537257, -0.9225499 ,\n",
       "        0.06658488,  0.4198473 , -0.63993996,  0.77310972, -1.06385486,\n",
       "       -0.71059244, -0.9225499 , -1.06385486, -0.56928748, -0.14537257,\n",
       "        0.4198473 , -0.35733002, -0.21602505, -0.14537257,  0.27854233,\n",
       "       -1.06385486, -1.84103219,  0.91441469,  0.63180476, -0.07472009,\n",
       "       -1.98233716, -0.56928748,  0.70245724, -0.14537257, -0.78124493,\n",
       "       -0.42798251, -0.0040676 ,  0.06658488, -0.14537257, -0.99320238,\n",
       "       -1.13450735, -0.42798251,  0.49049979,  0.49049979, -0.63993996,\n",
       "        1.83289699, -1.06385486, -0.71059244,  0.91441469, -1.3464648 ,\n",
       "       -1.27581232,  0.56115227, -1.27581232, -0.0040676 , -3.53669181,\n",
       "        1.26767711, -0.21602505,  1.26767711, -0.56928748, -0.0040676 ,\n",
       "        1.05571966,  1.26767711, -0.0040676 , -0.0040676 ,  0.98506718,\n",
       "        0.06658488,  0.13723737,  0.06658488, -0.85189741,  0.20788985,\n",
       "        0.84376221,  2.89268425, -0.21602505, -1.84103219,  0.20788985,\n",
       "        0.06658488,  0.84376221,  2.11550692, -0.35733002,  0.06658488,\n",
       "       -1.41711729, -0.21602505, -0.0040676 , -0.71059244, -0.56928748,\n",
       "       -0.14537257,  0.06658488, -0.21602505, -0.14537257, -0.71059244,\n",
       "       -1.27581232,  0.56115227, -0.35733002, -0.63993996,  0.63180476,\n",
       "       -1.13450735, -0.63993996, -0.49863499, -0.42798251, -0.42798251,\n",
       "        0.20788985, -1.3464648 , -0.42798251,  0.49049979,  0.34919482,\n",
       "        0.34919482,  0.20788985, -1.3464648 , -0.07472009,  0.20788985,\n",
       "       -0.0040676 , -0.07472009,  0.13723737,  0.49049979, -0.63993996,\n",
       "       -0.78124493, -0.21602505,  0.49049979, -0.78124493, -0.0040676 ,\n",
       "        1.12637214,  0.63180476,  0.34919482, -0.9225499 , -2.2649471 ,\n",
       "       -0.9225499 , -0.0040676 ,  0.56115227,  0.20788985, -0.07472009,\n",
       "        0.91441469, -0.28667754,  1.19702463, -0.71059244, -0.35733002,\n",
       "       -1.13450735,  0.06658488,  1.12637214, -1.62907474, -2.33559958,\n",
       "        0.06658488,  0.06658488, -1.98233716, -1.91168467, -0.85189741,\n",
       "        0.13723737, -0.35733002, -0.42798251,  0.20788985, -0.21602505,\n",
       "       -1.20515983, -1.69972722, -2.19429461,  0.13723737, -0.35733002,\n",
       "        0.77310972, -1.69972722, -0.0040676 , -0.49863499, -0.56928748,\n",
       "        0.20788985,  0.77310972,  1.83289699, -2.05298964, -0.0040676 ,\n",
       "       -0.49863499,  0.34919482,  1.62093953, -0.63993996, -0.0040676 ,\n",
       "        0.77310972,  0.91441469,  0.49049979, -0.14537257,  2.11550692,\n",
       "        0.20788985,  1.19702463, -1.27581232,  1.90354947, -0.21602505,\n",
       "        0.27854233, -0.14537257,  0.27854233, -1.27581232,  0.4198473 ,\n",
       "       -1.3464648 , -0.35733002, -0.78124493, -0.71059244,  0.49049979,\n",
       "        0.06658488, -1.84103219, -0.71059244, -0.78124493, -0.42798251,\n",
       "       -0.07472009,  0.34919482, -0.9225499 , -0.78124493,  0.06658488,\n",
       "       -0.0040676 , -0.42798251, -0.78124493, -0.49863499,  0.49049979,\n",
       "       -0.0040676 , -1.41711729, -0.14537257, -0.56928748,  0.77310972,\n",
       "       -1.77037971, -1.27581232, -0.42798251,  2.25681189, -0.78124493,\n",
       "       -0.21602505, -0.99320238, -2.19429461,  0.77310972,  0.13723737,\n",
       "        0.20788985, -0.42798251, -0.71059244,  0.84376221, -0.9225499 ,\n",
       "       -0.71059244, -0.9225499 ,  0.34919482, -0.07472009,  1.05571966,\n",
       "       -0.63993996, -0.56928748, -1.06385486,  0.06658488, -0.14537257,\n",
       "       -0.21602505,  0.98506718,  0.4198473 , -0.9225499 , -0.63993996,\n",
       "       -0.42798251,  0.27854233, -0.85189741,  1.3383296 ,  1.19702463,\n",
       "        0.63180476,  1.12637214, -0.63993996,  0.91441469, -0.78124493,\n",
       "       -0.42798251, -0.35733002, -0.49863499, -2.688862  , -0.0040676 ,\n",
       "       -0.21602505, -0.71059244, -0.21602505,  0.91441469,  1.26767711,\n",
       "        0.63180476,  0.91441469, -1.3464648 ,  0.20788985, -1.27581232,\n",
       "        0.63180476, -1.20515983,  0.63180476,  0.49049979, -1.41711729,\n",
       "        0.84376221,  0.06658488, -1.06385486, -1.98233716,  1.62093953,\n",
       "        0.27854233, -0.71059244,  0.98506718,  0.27854233,  1.47963456,\n",
       "        1.62093953, -0.42798251, -1.27581232, -0.28667754, -0.78124493,\n",
       "       -0.78124493,  0.4198473 , -0.85189741, -0.56928748, -0.0040676 ,\n",
       "       -0.14537257,  1.05571966,  0.84376221, -0.56928748, -0.14537257,\n",
       "       -0.28667754,  0.49049979,  0.13723737,  0.77310972, -0.14537257,\n",
       "       -0.99320238, -0.28667754,  0.06658488, -0.14537257,  1.05571966,\n",
       "       -1.13450735, -0.07472009,  1.55028705, -0.07472009, -0.9225499 ,\n",
       "       -2.19429461,  0.4198473 , -0.9225499 , -0.21602505,  1.7622445 ,\n",
       "        1.12637214,  0.34919482,  0.4198473 , -0.42798251, -0.21602505,\n",
       "       -0.49863499,  1.26767711,  0.06658488,  1.3383296 , -0.85189741,\n",
       "       -0.28667754, -0.0040676 ,  0.77310972,  0.34919482,  0.56115227,\n",
       "        1.3383296 ,  0.70245724,  1.19702463, -0.56928748,  0.06658488,\n",
       "        0.49049979,  0.06658488, -0.35733002, -0.71059244,  0.13723737,\n",
       "       -1.06385486, -0.63993996,  0.4198473 ,  0.27854233])"
      ]
     },
     "execution_count": 23,
     "metadata": {},
     "output_type": "execute_result"
    }
   ],
   "source": [
    "norm_X"
   ]
  },
  {
   "cell_type": "code",
   "execution_count": 14,
   "metadata": {},
   "outputs": [
    {
     "data": {
      "text/plain": [
       "array([[3.20104834],\n",
       "       [0.22779511]])"
      ]
     },
     "execution_count": 14,
     "metadata": {},
     "output_type": "execute_result"
    }
   ],
   "source": [
    "theta1"
   ]
  },
  {
   "cell_type": "code",
   "execution_count": 15,
   "metadata": {},
   "outputs": [
    {
     "data": {
      "text/plain": [
       "Text(0, 0.5, '$y$')"
      ]
     },
     "execution_count": 15,
     "metadata": {},
     "output_type": "execute_result"
    },
    {
     "data": {
      "image/png": "[encoded data removed]",
      "text/plain": [
       "<Figure size 432x288 with 1 Axes>"
      ]
     },
     "metadata": {
      "needs_background": "light"
     },
     "output_type": "display_data"
    }
   ],
   "source": [
    "\"\"\" Let's plot the prediction line with the calculated theta\"\"\"\n",
    "\n",
    "X_ln = np.array([min(norm_X),max(norm_X)]) #Plot a line between min x and max x\n",
    "A_ln = np.c_[np.ones((2,1)),X_ln]\n",
    "y_ln = A_ln.dot(theta1)\n",
    "\n",
    "plt.figure(1)\n",
    "plt.plot(X_ln,y_ln,'r-')\n",
    "plt.plot(norm_X,y,'b.')\n",
    "plt.xlabel(\"$x$\", fontsize=18)\n",
    "plt.ylabel(\"$y$\", rotation=0, fontsize=18)\n",
    "# plt.axis([0,2,0,15])"
   ]
  },
  {
   "cell_type": "code",
   "execution_count": 16,
   "metadata": {},
   "outputs": [],
   "source": [
    "#Prediction of GPA for test dataset\n",
    "test=np.genfromtxt('testfile.csv',delimiter=',')\n",
    "IDs=test[1:,0]\n",
    "Xtest=normalizeFeatures(test[1:,1])\n",
    "Ytest=predict(theta1,Xtest)"
   ]
  },
  {
   "cell_type": "code",
   "execution_count": 17,
   "metadata": {},
   "outputs": [],
   "source": [
    "# Preparing the output file\n",
    "output=open(\"output.csv\",'w')\n",
    "output.write(\"ID,GPA\\n\")\n",
    "for i in range(0,len(Ytest)):\n",
    "    output.write(str(int(IDs[i]))+\",\"+str(Ytest[i])+\"\\n\")\n",
    "output.close()"
   ]
  }
 ],
 "metadata": {
  "kernelspec": {
   "display_name": "Python 3",
   "language": "python",
   "name": "python3"
  },
  "language_info": {
   "codemirror_mode": {
    "name": "ipython",
    "version": 3
   },
   "file_extension": ".py",
   "mimetype": "text/x-python",
   "name": "python",
   "nbconvert_exporter": "python",
   "pygments_lexer": "ipython3",
   "version": "3.9.2"
  }
 },
 "nbformat": 4,
 "nbformat_minor": 4
}
