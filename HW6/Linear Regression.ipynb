{
 "cells": [
  {
   "cell_type": "markdown",
   "id": "earlier-ethernet",
   "metadata": {},
   "source": [
    "### Questions\n",
    "\n",
    "Dataset : https://www.kaggle.com/uciml/pima-indians-diabetes-database\n",
    "\n",
    "1. Split the dataset (80, 20) into training and testing set.\n",
    "2. Train a Linear Regression model to predict \"BMI\" using all other features available in the dataset.\n",
    "3. Plot the \"Cost function vs Iterations\" curve.\n",
    "4. Perform greedy search to find optimal learning rate.  \n",
    "5. Plot the \"Predicted BMI value($\\hat{Y}_i$)\" vs \"Actual BMI value(${Y}_i$)\" curve (Scatter Plot).\n",
    "6. Perform PCA on the dataset and reduce the dimensionality to 2 and train a new model on these newly obtained features.\n",
    "7. Plot the \"Cost function vs Iterations\" curve for this new model.\n",
    "8. Plot the \"Predicted BMI value($\\hat{Y}_i$) of the new model\" vs \"Actual BMI value(${Y}_i$)\" curve(it is a scatter plot)\n",
    "9. Show the scatter plot of PCA generated new features and also show the linear regression curve that you got from new model.\n",
    "\n",
    "**You can use libraries to solve these questions**"
   ]
  },
  {
   "attachments": {
    "400px-Linear_regression.svg.png": {
     "image/png": "[encoded data removed]"
    }
   },
   "cell_type": "markdown",
   "id": "assured-emerald",
   "metadata": {},
   "source": [
    "Sample plot for 8th step\n",
    "![400px-Linear_regression.svg.png](attachment:400px-Linear_regression.svg.png)"
   ]
  },
  {
   "cell_type": "code",
   "execution_count": 9,
   "id": "electoral-evans",
   "metadata": {},
   "outputs": [],
   "source": [
    "# import all nececssary libraries\n",
    "import pandas as pd\n",
    "import numpy as np\n",
    "from sklearn.linear_model import LinearRegression\n",
    "from sklearn.model_selection import train_test_split\n",
    "import matplotlib.pyplot as plt\n",
    "plt.style.use(['ggplot'])\n",
    "%matplotlib inline"
   ]
  },
  {
   "cell_type": "code",
   "execution_count": 29,
   "id": "formed-lloyd",
   "metadata": {},
   "outputs": [
    {
     "data": {
      "text/html": [
       "<div>\n",
       "<style scoped>\n",
       "    .dataframe tbody tr th:only-of-type {\n",
       "        vertical-align: middle;\n",
       "    }\n",
       "\n",
       "    .dataframe tbody tr th {\n",
       "        vertical-align: top;\n",
       "    }\n",
       "\n",
       "    .dataframe thead th {\n",
       "        text-align: right;\n",
       "    }\n",
       "</style>\n",
       "<table border=\"1\" class=\"dataframe\">\n",
       "  <thead>\n",
       "    <tr style=\"text-align: right;\">\n",
       "      <th></th>\n",
       "      <th>Pregnancies</th>\n",
       "      <th>Glucose</th>\n",
       "      <th>BloodPressure</th>\n",
       "      <th>SkinThickness</th>\n",
       "      <th>Insulin</th>\n",
       "      <th>DiabetesPedigreeFunction</th>\n",
       "      <th>Age</th>\n",
       "      <th>Outcome</th>\n",
       "    </tr>\n",
       "  </thead>\n",
       "  <tbody>\n",
       "    <tr>\n",
       "      <th>29</th>\n",
       "      <td>5</td>\n",
       "      <td>117</td>\n",
       "      <td>92</td>\n",
       "      <td>0</td>\n",
       "      <td>0</td>\n",
       "      <td>0.337</td>\n",
       "      <td>38</td>\n",
       "      <td>0</td>\n",
       "    </tr>\n",
       "    <tr>\n",
       "      <th>286</th>\n",
       "      <td>5</td>\n",
       "      <td>155</td>\n",
       "      <td>84</td>\n",
       "      <td>44</td>\n",
       "      <td>545</td>\n",
       "      <td>0.619</td>\n",
       "      <td>34</td>\n",
       "      <td>0</td>\n",
       "    </tr>\n",
       "    <tr>\n",
       "      <th>35</th>\n",
       "      <td>4</td>\n",
       "      <td>103</td>\n",
       "      <td>60</td>\n",
       "      <td>33</td>\n",
       "      <td>192</td>\n",
       "      <td>0.966</td>\n",
       "      <td>33</td>\n",
       "      <td>0</td>\n",
       "    </tr>\n",
       "    <tr>\n",
       "      <th>392</th>\n",
       "      <td>1</td>\n",
       "      <td>131</td>\n",
       "      <td>64</td>\n",
       "      <td>14</td>\n",
       "      <td>415</td>\n",
       "      <td>0.389</td>\n",
       "      <td>21</td>\n",
       "      <td>0</td>\n",
       "    </tr>\n",
       "    <tr>\n",
       "      <th>12</th>\n",
       "      <td>10</td>\n",
       "      <td>139</td>\n",
       "      <td>80</td>\n",
       "      <td>0</td>\n",
       "      <td>0</td>\n",
       "      <td>1.441</td>\n",
       "      <td>57</td>\n",
       "      <td>0</td>\n",
       "    </tr>\n",
       "  </tbody>\n",
       "</table>\n",
       "</div>"
      ],
      "text/plain": [
       "     Pregnancies  Glucose  BloodPressure  SkinThickness  Insulin  \\\n",
       "29             5      117             92              0        0   \n",
       "286            5      155             84             44      545   \n",
       "35             4      103             60             33      192   \n",
       "392            1      131             64             14      415   \n",
       "12            10      139             80              0        0   \n",
       "\n",
       "     DiabetesPedigreeFunction  Age  Outcome  \n",
       "29                      0.337   38        0  \n",
       "286                     0.619   34        0  \n",
       "35                      0.966   33        0  \n",
       "392                     0.389   21        0  \n",
       "12                      1.441   57        0  "
      ]
     },
     "execution_count": 29,
     "metadata": {},
     "output_type": "execute_result"
    }
   ],
   "source": [
    "# split the dataset into train and test set\n",
    "data = pd.read_csv(\"diabetes.csv\")\n",
    "x = data[[\"Pregnancies\",\"Glucose\",\"BloodPressure\",\"SkinThickness\",\"Insulin\",\"DiabetesPedigreeFunction\",\"Age\",\"Outcome\"]]\n",
    "y = data[[\"BMI\"]]\n",
    "xTrain,xTest,yTrain,yTest = train_test_split(x,y, test_size=0.2, random_state=18)\n",
    "xTrain.head()"
   ]
  },
  {
   "cell_type": "code",
   "execution_count": 30,
   "id": "stock-accounting",
   "metadata": {},
   "outputs": [],
   "source": [
    "def extractfeatures(filename):\n",
    "    x=np.genfromtxt(filename,delimiter=',')\n",
    "    xfeatures=x[1:,1]\n",
    "    y=x[1:,2]\n",
    "    return xfeatures,y\n",
    "\n",
    "def computeCost(X,y,theta):\n",
    "    m=len(y)\n",
    "    J=0#iterative solution\n",
    "    s=0\n",
    "    for i in range(0,m):\n",
    "        s=s+((theta[0]+theta[1]*X[i,1])-y[i])**2\n",
    "    J=s/(2*m)\n",
    "\n",
    "    y=y.reshape(m,1)#vectorized solution\n",
    "    J1=(np.dot((np.dot(X,theta)-y).T,(np.dot(X,theta)-y)))/(2*m)\n",
    "\n",
    "    return J\n",
    "\n",
    "def gradientDescent(X,y,theta,alpha,iterations):\n",
    "    J_history=np.zeros((iterations,1))\n",
    "\n",
    "    m=len(y)# number of training examples\n",
    "    y=y.reshape(m,1)\n",
    "    for iter in range(0,iterations):\n",
    "        s1=0\n",
    "        s0=0\n",
    "        for i in range(0,m):\n",
    "            s1+=((theta[0]+theta[1]*X[i,1])-y[i])*X[i,1]\n",
    "            s0+=((theta[0]+theta[1]*X[i,1])-y[i])\n",
    "        theta[0]=theta[0]-alpha*s0/m\n",
    "        theta[1]=theta[1]-alpha*s1/m\n",
    "        J_history[iter]=computeCost(X,y,theta)\n",
    "    return theta,J_history"
   ]
  },
  {
   "cell_type": "code",
   "execution_count": 31,
   "id": "controlled-technology",
   "metadata": {},
   "outputs": [],
   "source": [
    "m = len(np.asarray(yTrain))\n",
    "\n",
    "theta=np.ones((2,1))#initialize fitting parameters\n",
    "input_X=np.c_[np.ones((m,1)),np.asarray(xTrain[\"Pregnancies\"])]#Add a column of ones to X\n",
    "iterations=100\n",
    "alpha = 0.05\n",
    "\n",
    "theta1,J_history=gradientDescent(input_X,np.asarray(yTrain),theta,alpha,iterations)#gets the final data and the values of cost function in each iteration"
   ]
  },
  {
   "cell_type": "code",
   "execution_count": 32,
   "id": "commercial-course",
   "metadata": {},
   "outputs": [
    {
     "data": {
      "text/plain": [
       "(array([[28.5206753 ],\n",
       "        [ 0.54992881]]),\n",
       " array([[240.38262916],\n",
       "        [216.89788287],\n",
       "        [207.60574119],\n",
       "        [199.97610619],\n",
       "        [192.7896451 ]]))"
      ]
     },
     "execution_count": 32,
     "metadata": {},
     "output_type": "execute_result"
    }
   ],
   "source": [
    "theta1,J_history[0:5]"
   ]
  },
  {
   "cell_type": "code",
   "execution_count": 33,
   "id": "velvet-welcome",
   "metadata": {},
   "outputs": [
    {
     "data": {
      "text/plain": [
       "Text(0, 0.5, '$y$')"
      ]
     },
     "execution_count": 33,
     "metadata": {},
     "output_type": "execute_result"
    },
    {
     "data": {
      "image/png": "[encoded data removed]",
      "text/plain": [
       "<Figure size 432x288 with 1 Axes>"
      ]
     },
     "metadata": {
      "needs_background": "light"
     },
     "output_type": "display_data"
    }
   ],
   "source": [
    "\"\"\" Let's plot the prediction line with the calculated theta\"\"\"\n",
    "\n",
    "X_ln = np.array([min(np.asarray(xTrain[\"Pregnancies\"])),max(np.asarray(xTrain[\"Pregnancies\"]))]) #Plot a line between min x and max x\n",
    "A_ln = np.c_[np.ones((2,1)),X_ln]\n",
    "y_ln = A_ln.dot(theta1)\n",
    "\n",
    "plt.figure(1)\n",
    "plt.plot(X_ln,y_ln,'r-')\n",
    "plt.plot(np.asarray(xTrain[\"Pregnancies\"]),np.asarray(yTrain),'b.')\n",
    "plt.xlabel(\"$x$\", fontsize=18)\n",
    "plt.ylabel(\"$y$\", rotation=0, fontsize=18)\n",
    "# plt.axis([0,2,0,15])"
   ]
  },
  {
   "cell_type": "code",
   "execution_count": 10,
   "id": "positive-possession",
   "metadata": {},
   "outputs": [
    {
     "data": {
      "text/plain": [
       "array([[ 0.02216954,  0.00639075, -0.00225108,  0.0003596 , -0.00030971,\n",
       "         0.01068733,  0.11074043,  0.00279689]])"
      ]
     },
     "execution_count": 10,
     "metadata": {},
     "output_type": "execute_result"
    }
   ],
   "source": [
    "# Train a Linear Regression model to predict \"BMI\" using all other features avaiable in the dataset\n",
    "model = LinearRegression()\n",
    "model.fit(xTrain,yTrain)\n",
    "model.coef_"
   ]
  },
  {
   "cell_type": "code",
   "execution_count": 12,
   "id": "distinguished-clearance",
   "metadata": {},
   "outputs": [
    {
     "data": {
      "text/plain": [
       "<matplotlib.legend.Legend at 0x11591d70f70>"
      ]
     },
     "execution_count": 12,
     "metadata": {},
     "output_type": "execute_result"
    },
    {
     "data": {
      "image/png": "[encoded data removed]",
      "text/plain": [
       "<Figure size 432x288 with 1 Axes>"
      ]
     },
     "metadata": {
      "needs_background": "light"
     },
     "output_type": "display_data"
    }
   ],
   "source": [
    "plt.scatter(x[\"Glucose\"],y,color=\"blue\",label=\"Original Data\")\n",
    "plt.plot(x[\"Glucose\"],model.predict(x),color=\"red\",label=\"Regression\")\n",
    "plt.legend(loc=\"best\")"
   ]
  },
  {
   "cell_type": "code",
   "execution_count": null,
   "id": "level-shade",
   "metadata": {},
   "outputs": [],
   "source": [
    "# Plot the \"cost function vs iterations\" curve"
   ]
  },
  {
   "cell_type": "code",
   "execution_count": null,
   "id": "champion-timothy",
   "metadata": {},
   "outputs": [],
   "source": [
    "# perform greedy search to find optimal learning rate.  "
   ]
  },
  {
   "cell_type": "code",
   "execution_count": 1,
   "id": "nutritional-panama",
   "metadata": {},
   "outputs": [],
   "source": [
    "# plot the \"Predicted BMI value( 𝑌̂ 𝑖 )\" vs \"Actual BMI value( 𝑌𝑖 )\" curve(it is a scatter plot)"
   ]
  },
  {
   "cell_type": "code",
   "execution_count": null,
   "id": "explicit-lobby",
   "metadata": {},
   "outputs": [],
   "source": [
    "# perform PCA on the dataset and reduce the dimensionality to 2 and train a new model on these newly obtained features."
   ]
  },
  {
   "cell_type": "code",
   "execution_count": null,
   "id": "informal-realtor",
   "metadata": {},
   "outputs": [],
   "source": [
    "# plot the \"cost function vs iterations\" curve for this new model."
   ]
  },
  {
   "cell_type": "code",
   "execution_count": null,
   "id": "marked-scene",
   "metadata": {},
   "outputs": [],
   "source": [
    "# plot the \"Predicted BMI value( 𝑌̂ 𝑖 ) of the new model\" vs \"Actual BMI value( 𝑌𝑖 )\" curve(it is a scatter plot)"
   ]
  },
  {
   "cell_type": "code",
   "execution_count": 1,
   "id": "certain-fruit",
   "metadata": {},
   "outputs": [],
   "source": [
    "# show the scatter plot of PCA generated new features and also show the linear regression curve that you got from new model."
   ]
  }
 ],
 "metadata": {
  "kernelspec": {
   "display_name": "Python 3",
   "language": "python",
   "name": "python3"
  },
  "language_info": {
   "codemirror_mode": {
    "name": "ipython",
    "version": 3
   },
   "file_extension": ".py",
   "mimetype": "text/x-python",
   "name": "python",
   "nbconvert_exporter": "python",
   "pygments_lexer": "ipython3",
   "version": "3.9.2"
  }
 },
 "nbformat": 4,
 "nbformat_minor": 5
}
